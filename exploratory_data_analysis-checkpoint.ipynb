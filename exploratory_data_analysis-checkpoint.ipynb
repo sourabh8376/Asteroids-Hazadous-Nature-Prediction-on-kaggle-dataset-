{
 "cells": [
  {
   "cell_type": "markdown",
   "id": "94daf765",
   "metadata": {},
   "source": [
    "# Exploratory Data Analysis"
   ]
  },
  {
   "cell_type": "code",
   "execution_count": 1,
   "id": "5309a3c3",
   "metadata": {},
   "outputs": [],
   "source": [
    "import pandas as pd \n",
    "import numpy as np\n",
    "from matplotlib import pyplot as plt\n",
    "import seaborn as sns\n",
    "from matplotlib import style\n",
    "style.use('fivethirtyeight')"
   ]
  },
  {
   "cell_type": "markdown",
   "id": "b7a1e4d6",
   "metadata": {},
   "source": [
    "<h3> 1) Extracting data from excel file </h3>"
   ]
  },
  {
   "cell_type": "code",
   "execution_count": 2,
   "id": "952b60a4",
   "metadata": {},
   "outputs": [],
   "source": [
    "data = pd.read_csv('neo_v2.csv')"
   ]
  },
  {
   "cell_type": "markdown",
   "id": "01a8059d",
   "metadata": {},
   "source": [
    "<h3> 2) Data Analyzing </h3>"
   ]
  },
  {
   "cell_type": "code",
   "execution_count": 3,
   "id": "42aa705d",
   "metadata": {},
   "outputs": [
    {
     "data": {
      "text/html": [
       "<div>\n",
       "<style scoped>\n",
       "    .dataframe tbody tr th:only-of-type {\n",
       "        vertical-align: middle;\n",
       "    }\n",
       "\n",
       "    .dataframe tbody tr th {\n",
       "        vertical-align: top;\n",
       "    }\n",
       "\n",
       "    .dataframe thead th {\n",
       "        text-align: right;\n",
       "    }\n",
       "</style>\n",
       "<table border=\"1\" class=\"dataframe\">\n",
       "  <thead>\n",
       "    <tr style=\"text-align: right;\">\n",
       "      <th></th>\n",
       "      <th>id</th>\n",
       "      <th>name</th>\n",
       "      <th>est_diameter_min</th>\n",
       "      <th>est_diameter_max</th>\n",
       "      <th>relative_velocity</th>\n",
       "      <th>miss_distance</th>\n",
       "      <th>orbiting_body</th>\n",
       "      <th>sentry_object</th>\n",
       "      <th>absolute_magnitude</th>\n",
       "      <th>hazardous</th>\n",
       "    </tr>\n",
       "  </thead>\n",
       "  <tbody>\n",
       "    <tr>\n",
       "      <th>0</th>\n",
       "      <td>2162635</td>\n",
       "      <td>162635 (2000 SS164)</td>\n",
       "      <td>1.198271</td>\n",
       "      <td>2.679415</td>\n",
       "      <td>13569.249224</td>\n",
       "      <td>5.483974e+07</td>\n",
       "      <td>Earth</td>\n",
       "      <td>False</td>\n",
       "      <td>16.73</td>\n",
       "      <td>False</td>\n",
       "    </tr>\n",
       "    <tr>\n",
       "      <th>1</th>\n",
       "      <td>2277475</td>\n",
       "      <td>277475 (2005 WK4)</td>\n",
       "      <td>0.265800</td>\n",
       "      <td>0.594347</td>\n",
       "      <td>73588.726663</td>\n",
       "      <td>6.143813e+07</td>\n",
       "      <td>Earth</td>\n",
       "      <td>False</td>\n",
       "      <td>20.00</td>\n",
       "      <td>True</td>\n",
       "    </tr>\n",
       "    <tr>\n",
       "      <th>2</th>\n",
       "      <td>2512244</td>\n",
       "      <td>512244 (2015 YE18)</td>\n",
       "      <td>0.722030</td>\n",
       "      <td>1.614507</td>\n",
       "      <td>114258.692129</td>\n",
       "      <td>4.979872e+07</td>\n",
       "      <td>Earth</td>\n",
       "      <td>False</td>\n",
       "      <td>17.83</td>\n",
       "      <td>False</td>\n",
       "    </tr>\n",
       "    <tr>\n",
       "      <th>3</th>\n",
       "      <td>3596030</td>\n",
       "      <td>(2012 BV13)</td>\n",
       "      <td>0.096506</td>\n",
       "      <td>0.215794</td>\n",
       "      <td>24764.303138</td>\n",
       "      <td>2.543497e+07</td>\n",
       "      <td>Earth</td>\n",
       "      <td>False</td>\n",
       "      <td>22.20</td>\n",
       "      <td>False</td>\n",
       "    </tr>\n",
       "    <tr>\n",
       "      <th>4</th>\n",
       "      <td>3667127</td>\n",
       "      <td>(2014 GE35)</td>\n",
       "      <td>0.255009</td>\n",
       "      <td>0.570217</td>\n",
       "      <td>42737.733765</td>\n",
       "      <td>4.627557e+07</td>\n",
       "      <td>Earth</td>\n",
       "      <td>False</td>\n",
       "      <td>20.09</td>\n",
       "      <td>True</td>\n",
       "    </tr>\n",
       "  </tbody>\n",
       "</table>\n",
       "</div>"
      ],
      "text/plain": [
       "        id                 name  est_diameter_min  est_diameter_max  \\\n",
       "0  2162635  162635 (2000 SS164)          1.198271          2.679415   \n",
       "1  2277475    277475 (2005 WK4)          0.265800          0.594347   \n",
       "2  2512244   512244 (2015 YE18)          0.722030          1.614507   \n",
       "3  3596030          (2012 BV13)          0.096506          0.215794   \n",
       "4  3667127          (2014 GE35)          0.255009          0.570217   \n",
       "\n",
       "   relative_velocity  miss_distance orbiting_body  sentry_object  \\\n",
       "0       13569.249224   5.483974e+07         Earth          False   \n",
       "1       73588.726663   6.143813e+07         Earth          False   \n",
       "2      114258.692129   4.979872e+07         Earth          False   \n",
       "3       24764.303138   2.543497e+07         Earth          False   \n",
       "4       42737.733765   4.627557e+07         Earth          False   \n",
       "\n",
       "   absolute_magnitude  hazardous  \n",
       "0               16.73      False  \n",
       "1               20.00       True  \n",
       "2               17.83      False  \n",
       "3               22.20      False  \n",
       "4               20.09       True  "
      ]
     },
     "execution_count": 3,
     "metadata": {},
     "output_type": "execute_result"
    }
   ],
   "source": [
    "data.head()"
   ]
  },
  {
   "cell_type": "code",
   "execution_count": 4,
   "id": "651f7976",
   "metadata": {},
   "outputs": [
    {
     "data": {
      "text/html": [
       "<div>\n",
       "<style scoped>\n",
       "    .dataframe tbody tr th:only-of-type {\n",
       "        vertical-align: middle;\n",
       "    }\n",
       "\n",
       "    .dataframe tbody tr th {\n",
       "        vertical-align: top;\n",
       "    }\n",
       "\n",
       "    .dataframe thead th {\n",
       "        text-align: right;\n",
       "    }\n",
       "</style>\n",
       "<table border=\"1\" class=\"dataframe\">\n",
       "  <thead>\n",
       "    <tr style=\"text-align: right;\">\n",
       "      <th></th>\n",
       "      <th>id</th>\n",
       "      <th>name</th>\n",
       "      <th>est_diameter_min</th>\n",
       "      <th>est_diameter_max</th>\n",
       "      <th>relative_velocity</th>\n",
       "      <th>miss_distance</th>\n",
       "      <th>orbiting_body</th>\n",
       "      <th>sentry_object</th>\n",
       "      <th>absolute_magnitude</th>\n",
       "      <th>hazardous</th>\n",
       "    </tr>\n",
       "  </thead>\n",
       "  <tbody>\n",
       "    <tr>\n",
       "      <th>90831</th>\n",
       "      <td>3763337</td>\n",
       "      <td>(2016 VX1)</td>\n",
       "      <td>0.026580</td>\n",
       "      <td>0.059435</td>\n",
       "      <td>52078.886692</td>\n",
       "      <td>1.230039e+07</td>\n",
       "      <td>Earth</td>\n",
       "      <td>False</td>\n",
       "      <td>25.00</td>\n",
       "      <td>False</td>\n",
       "    </tr>\n",
       "    <tr>\n",
       "      <th>90832</th>\n",
       "      <td>3837603</td>\n",
       "      <td>(2019 AD3)</td>\n",
       "      <td>0.016771</td>\n",
       "      <td>0.037501</td>\n",
       "      <td>46114.605073</td>\n",
       "      <td>5.432121e+07</td>\n",
       "      <td>Earth</td>\n",
       "      <td>False</td>\n",
       "      <td>26.00</td>\n",
       "      <td>False</td>\n",
       "    </tr>\n",
       "    <tr>\n",
       "      <th>90833</th>\n",
       "      <td>54017201</td>\n",
       "      <td>(2020 JP3)</td>\n",
       "      <td>0.031956</td>\n",
       "      <td>0.071456</td>\n",
       "      <td>7566.807732</td>\n",
       "      <td>2.840077e+07</td>\n",
       "      <td>Earth</td>\n",
       "      <td>False</td>\n",
       "      <td>24.60</td>\n",
       "      <td>False</td>\n",
       "    </tr>\n",
       "    <tr>\n",
       "      <th>90834</th>\n",
       "      <td>54115824</td>\n",
       "      <td>(2021 CN5)</td>\n",
       "      <td>0.007321</td>\n",
       "      <td>0.016370</td>\n",
       "      <td>69199.154484</td>\n",
       "      <td>6.869206e+07</td>\n",
       "      <td>Earth</td>\n",
       "      <td>False</td>\n",
       "      <td>27.80</td>\n",
       "      <td>False</td>\n",
       "    </tr>\n",
       "    <tr>\n",
       "      <th>90835</th>\n",
       "      <td>54205447</td>\n",
       "      <td>(2021 TW7)</td>\n",
       "      <td>0.039862</td>\n",
       "      <td>0.089133</td>\n",
       "      <td>27024.455553</td>\n",
       "      <td>5.977213e+07</td>\n",
       "      <td>Earth</td>\n",
       "      <td>False</td>\n",
       "      <td>24.12</td>\n",
       "      <td>False</td>\n",
       "    </tr>\n",
       "  </tbody>\n",
       "</table>\n",
       "</div>"
      ],
      "text/plain": [
       "             id        name  est_diameter_min  est_diameter_max  \\\n",
       "90831   3763337  (2016 VX1)          0.026580          0.059435   \n",
       "90832   3837603  (2019 AD3)          0.016771          0.037501   \n",
       "90833  54017201  (2020 JP3)          0.031956          0.071456   \n",
       "90834  54115824  (2021 CN5)          0.007321          0.016370   \n",
       "90835  54205447  (2021 TW7)          0.039862          0.089133   \n",
       "\n",
       "       relative_velocity  miss_distance orbiting_body  sentry_object  \\\n",
       "90831       52078.886692   1.230039e+07         Earth          False   \n",
       "90832       46114.605073   5.432121e+07         Earth          False   \n",
       "90833        7566.807732   2.840077e+07         Earth          False   \n",
       "90834       69199.154484   6.869206e+07         Earth          False   \n",
       "90835       27024.455553   5.977213e+07         Earth          False   \n",
       "\n",
       "       absolute_magnitude  hazardous  \n",
       "90831               25.00      False  \n",
       "90832               26.00      False  \n",
       "90833               24.60      False  \n",
       "90834               27.80      False  \n",
       "90835               24.12      False  "
      ]
     },
     "execution_count": 4,
     "metadata": {},
     "output_type": "execute_result"
    }
   ],
   "source": [
    "data.tail()"
   ]
  },
  {
   "cell_type": "markdown",
   "id": "6f301247",
   "metadata": {},
   "source": [
    "<h3> 3) Identify missing data on dataset </h3>"
   ]
  },
  {
   "cell_type": "code",
   "execution_count": 5,
   "id": "2a75895f",
   "metadata": {},
   "outputs": [
    {
     "data": {
      "text/html": [
       "<div>\n",
       "<style scoped>\n",
       "    .dataframe tbody tr th:only-of-type {\n",
       "        vertical-align: middle;\n",
       "    }\n",
       "\n",
       "    .dataframe tbody tr th {\n",
       "        vertical-align: top;\n",
       "    }\n",
       "\n",
       "    .dataframe thead th {\n",
       "        text-align: right;\n",
       "    }\n",
       "</style>\n",
       "<table border=\"1\" class=\"dataframe\">\n",
       "  <thead>\n",
       "    <tr style=\"text-align: right;\">\n",
       "      <th></th>\n",
       "      <th>id</th>\n",
       "      <th>name</th>\n",
       "      <th>est_diameter_min</th>\n",
       "      <th>est_diameter_max</th>\n",
       "      <th>relative_velocity</th>\n",
       "      <th>miss_distance</th>\n",
       "      <th>orbiting_body</th>\n",
       "      <th>sentry_object</th>\n",
       "      <th>absolute_magnitude</th>\n",
       "      <th>hazardous</th>\n",
       "    </tr>\n",
       "  </thead>\n",
       "  <tbody>\n",
       "    <tr>\n",
       "      <th>0</th>\n",
       "      <td>False</td>\n",
       "      <td>False</td>\n",
       "      <td>False</td>\n",
       "      <td>False</td>\n",
       "      <td>False</td>\n",
       "      <td>False</td>\n",
       "      <td>False</td>\n",
       "      <td>False</td>\n",
       "      <td>False</td>\n",
       "      <td>False</td>\n",
       "    </tr>\n",
       "    <tr>\n",
       "      <th>1</th>\n",
       "      <td>False</td>\n",
       "      <td>False</td>\n",
       "      <td>False</td>\n",
       "      <td>False</td>\n",
       "      <td>False</td>\n",
       "      <td>False</td>\n",
       "      <td>False</td>\n",
       "      <td>False</td>\n",
       "      <td>False</td>\n",
       "      <td>False</td>\n",
       "    </tr>\n",
       "    <tr>\n",
       "      <th>2</th>\n",
       "      <td>False</td>\n",
       "      <td>False</td>\n",
       "      <td>False</td>\n",
       "      <td>False</td>\n",
       "      <td>False</td>\n",
       "      <td>False</td>\n",
       "      <td>False</td>\n",
       "      <td>False</td>\n",
       "      <td>False</td>\n",
       "      <td>False</td>\n",
       "    </tr>\n",
       "    <tr>\n",
       "      <th>3</th>\n",
       "      <td>False</td>\n",
       "      <td>False</td>\n",
       "      <td>False</td>\n",
       "      <td>False</td>\n",
       "      <td>False</td>\n",
       "      <td>False</td>\n",
       "      <td>False</td>\n",
       "      <td>False</td>\n",
       "      <td>False</td>\n",
       "      <td>False</td>\n",
       "    </tr>\n",
       "    <tr>\n",
       "      <th>4</th>\n",
       "      <td>False</td>\n",
       "      <td>False</td>\n",
       "      <td>False</td>\n",
       "      <td>False</td>\n",
       "      <td>False</td>\n",
       "      <td>False</td>\n",
       "      <td>False</td>\n",
       "      <td>False</td>\n",
       "      <td>False</td>\n",
       "      <td>False</td>\n",
       "    </tr>\n",
       "  </tbody>\n",
       "</table>\n",
       "</div>"
      ],
      "text/plain": [
       "      id   name  est_diameter_min  est_diameter_max  relative_velocity  \\\n",
       "0  False  False             False             False              False   \n",
       "1  False  False             False             False              False   \n",
       "2  False  False             False             False              False   \n",
       "3  False  False             False             False              False   \n",
       "4  False  False             False             False              False   \n",
       "\n",
       "   miss_distance  orbiting_body  sentry_object  absolute_magnitude  hazardous  \n",
       "0          False          False          False               False      False  \n",
       "1          False          False          False               False      False  \n",
       "2          False          False          False               False      False  \n",
       "3          False          False          False               False      False  \n",
       "4          False          False          False               False      False  "
      ]
     },
     "execution_count": 5,
     "metadata": {},
     "output_type": "execute_result"
    }
   ],
   "source": [
    "missing_data = data.isnull()\n",
    "missing_data.head(5)"
   ]
  },
  {
   "cell_type": "code",
   "execution_count": 6,
   "id": "e12d3bb9",
   "metadata": {},
   "outputs": [
    {
     "name": "stdout",
     "output_type": "stream",
     "text": [
      "id\n",
      "False    90836\n",
      "Name: id, dtype: int64\n",
      "\n",
      "name\n",
      "False    90836\n",
      "Name: name, dtype: int64\n",
      "\n",
      "est_diameter_min\n",
      "False    90836\n",
      "Name: est_diameter_min, dtype: int64\n",
      "\n",
      "est_diameter_max\n",
      "False    90836\n",
      "Name: est_diameter_max, dtype: int64\n",
      "\n",
      "relative_velocity\n",
      "False    90836\n",
      "Name: relative_velocity, dtype: int64\n",
      "\n",
      "miss_distance\n",
      "False    90836\n",
      "Name: miss_distance, dtype: int64\n",
      "\n",
      "orbiting_body\n",
      "False    90836\n",
      "Name: orbiting_body, dtype: int64\n",
      "\n",
      "sentry_object\n",
      "False    90836\n",
      "Name: sentry_object, dtype: int64\n",
      "\n",
      "absolute_magnitude\n",
      "False    90836\n",
      "Name: absolute_magnitude, dtype: int64\n",
      "\n",
      "hazardous\n",
      "False    90836\n",
      "Name: hazardous, dtype: int64\n",
      "\n"
     ]
    }
   ],
   "source": [
    "for column in missing_data.columns.values.tolist():\n",
    "    print(column)\n",
    "    print (missing_data[column].value_counts())\n",
    "    print(\"\") "
   ]
  },
  {
   "cell_type": "markdown",
   "id": "029bed2c",
   "metadata": {},
   "source": [
    "In this data have not missing values"
   ]
  },
  {
   "cell_type": "markdown",
   "id": "7ab60d60",
   "metadata": {},
   "source": [
    "<h3> 4) data types list for each column </h3>"
   ]
  },
  {
   "cell_type": "code",
   "execution_count": 7,
   "id": "ec0c0d88",
   "metadata": {},
   "outputs": [
    {
     "data": {
      "text/plain": [
       "id                      int64\n",
       "name                   object\n",
       "est_diameter_min      float64\n",
       "est_diameter_max      float64\n",
       "relative_velocity     float64\n",
       "miss_distance         float64\n",
       "orbiting_body          object\n",
       "sentry_object            bool\n",
       "absolute_magnitude    float64\n",
       "hazardous                bool\n",
       "dtype: object"
      ]
     },
     "execution_count": 7,
     "metadata": {},
     "output_type": "execute_result"
    }
   ],
   "source": [
    "data.dtypes"
   ]
  },
  {
   "cell_type": "code",
   "execution_count": 8,
   "id": "a751b9c4",
   "metadata": {},
   "outputs": [
    {
     "data": {
      "text/plain": [
       "(90836, 10)"
      ]
     },
     "execution_count": 8,
     "metadata": {},
     "output_type": "execute_result"
    }
   ],
   "source": [
    "data.shape"
   ]
  },
  {
   "cell_type": "markdown",
   "id": "e8adbcc1",
   "metadata": {},
   "source": [
    "In this dataset have 90836 rows and 10 columnse where one dependent variable and other are independent variable"
   ]
  },
  {
   "cell_type": "markdown",
   "id": "baa233c4",
   "metadata": {},
   "source": [
    "<h3>Count of dependent catogrical variable</h3>"
   ]
  },
  {
   "cell_type": "code",
   "execution_count": 9,
   "id": "6cb301c9",
   "metadata": {},
   "outputs": [
    {
     "data": {
      "text/plain": [
       "False    81996\n",
       "True      8840\n",
       "Name: hazardous, dtype: int64"
      ]
     },
     "execution_count": 9,
     "metadata": {},
     "output_type": "execute_result"
    }
   ],
   "source": [
    "data.hazardous.value_counts()"
   ]
  },
  {
   "cell_type": "markdown",
   "id": "46763f8f",
   "metadata": {},
   "source": [
    "<h3>5) Data Information </h3>"
   ]
  },
  {
   "cell_type": "code",
   "execution_count": 10,
   "id": "5be73d59",
   "metadata": {},
   "outputs": [
    {
     "name": "stdout",
     "output_type": "stream",
     "text": [
      "<class 'pandas.core.frame.DataFrame'>\n",
      "RangeIndex: 90836 entries, 0 to 90835\n",
      "Data columns (total 10 columns):\n",
      " #   Column              Non-Null Count  Dtype  \n",
      "---  ------              --------------  -----  \n",
      " 0   id                  90836 non-null  int64  \n",
      " 1   name                90836 non-null  object \n",
      " 2   est_diameter_min    90836 non-null  float64\n",
      " 3   est_diameter_max    90836 non-null  float64\n",
      " 4   relative_velocity   90836 non-null  float64\n",
      " 5   miss_distance       90836 non-null  float64\n",
      " 6   orbiting_body       90836 non-null  object \n",
      " 7   sentry_object       90836 non-null  bool   \n",
      " 8   absolute_magnitude  90836 non-null  float64\n",
      " 9   hazardous           90836 non-null  bool   \n",
      "dtypes: bool(2), float64(5), int64(1), object(2)\n",
      "memory usage: 5.7+ MB\n"
     ]
    }
   ],
   "source": [
    "data.info()"
   ]
  },
  {
   "cell_type": "markdown",
   "id": "8c1850a7",
   "metadata": {},
   "source": [
    "<h3> 6) Drop irrelvent columns </h3>"
   ]
  },
  {
   "cell_type": "code",
   "execution_count": 11,
   "id": "38dea45d",
   "metadata": {},
   "outputs": [
    {
     "data": {
      "text/plain": [
       "array(['Earth'], dtype=object)"
      ]
     },
     "execution_count": 11,
     "metadata": {},
     "output_type": "execute_result"
    }
   ],
   "source": [
    "data.orbiting_body.unique()"
   ]
  },
  {
   "cell_type": "code",
   "execution_count": 12,
   "id": "a1a7d25b",
   "metadata": {},
   "outputs": [
    {
     "data": {
      "text/plain": [
       "array([False])"
      ]
     },
     "execution_count": 12,
     "metadata": {},
     "output_type": "execute_result"
    }
   ],
   "source": [
    "data.sentry_object.unique()"
   ]
  },
  {
   "cell_type": "markdown",
   "id": "cae27dc8",
   "metadata": {},
   "source": [
    "In both columns we have same value in all rows these columns is not useful for modeling the we need to drop these colums"
   ]
  },
  {
   "cell_type": "code",
   "execution_count": 13,
   "id": "84ea19c9",
   "metadata": {},
   "outputs": [],
   "source": [
    "data = data.drop([\"orbiting_body\",\"sentry_object\"],axis = 1)"
   ]
  },
  {
   "cell_type": "markdown",
   "id": "e533edd2",
   "metadata": {},
   "source": [
    "<h3> 7) Find duplicates values </h3>"
   ]
  },
  {
   "cell_type": "code",
   "execution_count": 14,
   "id": "26a709c9",
   "metadata": {},
   "outputs": [],
   "source": [
    "duplicate = data.duplicated()"
   ]
  },
  {
   "cell_type": "code",
   "execution_count": 15,
   "id": "1083eab0",
   "metadata": {},
   "outputs": [
    {
     "data": {
      "text/html": [
       "<div>\n",
       "<style scoped>\n",
       "    .dataframe tbody tr th:only-of-type {\n",
       "        vertical-align: middle;\n",
       "    }\n",
       "\n",
       "    .dataframe tbody tr th {\n",
       "        vertical-align: top;\n",
       "    }\n",
       "\n",
       "    .dataframe thead th {\n",
       "        text-align: right;\n",
       "    }\n",
       "</style>\n",
       "<table border=\"1\" class=\"dataframe\">\n",
       "  <thead>\n",
       "    <tr style=\"text-align: right;\">\n",
       "      <th></th>\n",
       "      <th>id</th>\n",
       "      <th>name</th>\n",
       "      <th>est_diameter_min</th>\n",
       "      <th>est_diameter_max</th>\n",
       "      <th>relative_velocity</th>\n",
       "      <th>miss_distance</th>\n",
       "      <th>absolute_magnitude</th>\n",
       "      <th>hazardous</th>\n",
       "    </tr>\n",
       "  </thead>\n",
       "  <tbody>\n",
       "  </tbody>\n",
       "</table>\n",
       "</div>"
      ],
      "text/plain": [
       "Empty DataFrame\n",
       "Columns: [id, name, est_diameter_min, est_diameter_max, relative_velocity, miss_distance, absolute_magnitude, hazardous]\n",
       "Index: []"
      ]
     },
     "execution_count": 15,
     "metadata": {},
     "output_type": "execute_result"
    }
   ],
   "source": [
    "data[duplicate]"
   ]
  },
  {
   "cell_type": "markdown",
   "id": "09839b92",
   "metadata": {},
   "source": [
    "Here is not any duplicate values in this dataset"
   ]
  },
  {
   "cell_type": "markdown",
   "id": "c22de3cf",
   "metadata": {},
   "source": [
    "<h3>8) Statistical Analysis </h3>"
   ]
  },
  {
   "cell_type": "code",
   "execution_count": 16,
   "id": "1a6bdbca",
   "metadata": {},
   "outputs": [
    {
     "data": {
      "text/html": [
       "<div>\n",
       "<style scoped>\n",
       "    .dataframe tbody tr th:only-of-type {\n",
       "        vertical-align: middle;\n",
       "    }\n",
       "\n",
       "    .dataframe tbody tr th {\n",
       "        vertical-align: top;\n",
       "    }\n",
       "\n",
       "    .dataframe thead th {\n",
       "        text-align: right;\n",
       "    }\n",
       "</style>\n",
       "<table border=\"1\" class=\"dataframe\">\n",
       "  <thead>\n",
       "    <tr style=\"text-align: right;\">\n",
       "      <th></th>\n",
       "      <th>id</th>\n",
       "      <th>est_diameter_min</th>\n",
       "      <th>est_diameter_max</th>\n",
       "      <th>relative_velocity</th>\n",
       "      <th>miss_distance</th>\n",
       "      <th>absolute_magnitude</th>\n",
       "    </tr>\n",
       "  </thead>\n",
       "  <tbody>\n",
       "    <tr>\n",
       "      <th>count</th>\n",
       "      <td>9.083600e+04</td>\n",
       "      <td>90836.000000</td>\n",
       "      <td>90836.000000</td>\n",
       "      <td>90836.000000</td>\n",
       "      <td>9.083600e+04</td>\n",
       "      <td>90836.000000</td>\n",
       "    </tr>\n",
       "    <tr>\n",
       "      <th>mean</th>\n",
       "      <td>1.438288e+07</td>\n",
       "      <td>0.127432</td>\n",
       "      <td>0.284947</td>\n",
       "      <td>48066.918918</td>\n",
       "      <td>3.706655e+07</td>\n",
       "      <td>23.527103</td>\n",
       "    </tr>\n",
       "    <tr>\n",
       "      <th>std</th>\n",
       "      <td>2.087202e+07</td>\n",
       "      <td>0.298511</td>\n",
       "      <td>0.667491</td>\n",
       "      <td>25293.296961</td>\n",
       "      <td>2.235204e+07</td>\n",
       "      <td>2.894086</td>\n",
       "    </tr>\n",
       "    <tr>\n",
       "      <th>min</th>\n",
       "      <td>2.000433e+06</td>\n",
       "      <td>0.000609</td>\n",
       "      <td>0.001362</td>\n",
       "      <td>203.346433</td>\n",
       "      <td>6.745533e+03</td>\n",
       "      <td>9.230000</td>\n",
       "    </tr>\n",
       "    <tr>\n",
       "      <th>25%</th>\n",
       "      <td>3.448110e+06</td>\n",
       "      <td>0.019256</td>\n",
       "      <td>0.043057</td>\n",
       "      <td>28619.020645</td>\n",
       "      <td>1.721082e+07</td>\n",
       "      <td>21.340000</td>\n",
       "    </tr>\n",
       "    <tr>\n",
       "      <th>50%</th>\n",
       "      <td>3.748362e+06</td>\n",
       "      <td>0.048368</td>\n",
       "      <td>0.108153</td>\n",
       "      <td>44190.117890</td>\n",
       "      <td>3.784658e+07</td>\n",
       "      <td>23.700000</td>\n",
       "    </tr>\n",
       "    <tr>\n",
       "      <th>75%</th>\n",
       "      <td>3.884023e+06</td>\n",
       "      <td>0.143402</td>\n",
       "      <td>0.320656</td>\n",
       "      <td>62923.604633</td>\n",
       "      <td>5.654900e+07</td>\n",
       "      <td>25.700000</td>\n",
       "    </tr>\n",
       "    <tr>\n",
       "      <th>max</th>\n",
       "      <td>5.427591e+07</td>\n",
       "      <td>37.892650</td>\n",
       "      <td>84.730541</td>\n",
       "      <td>236990.128088</td>\n",
       "      <td>7.479865e+07</td>\n",
       "      <td>33.200000</td>\n",
       "    </tr>\n",
       "  </tbody>\n",
       "</table>\n",
       "</div>"
      ],
      "text/plain": [
       "                 id  est_diameter_min  est_diameter_max  relative_velocity  \\\n",
       "count  9.083600e+04      90836.000000      90836.000000       90836.000000   \n",
       "mean   1.438288e+07          0.127432          0.284947       48066.918918   \n",
       "std    2.087202e+07          0.298511          0.667491       25293.296961   \n",
       "min    2.000433e+06          0.000609          0.001362         203.346433   \n",
       "25%    3.448110e+06          0.019256          0.043057       28619.020645   \n",
       "50%    3.748362e+06          0.048368          0.108153       44190.117890   \n",
       "75%    3.884023e+06          0.143402          0.320656       62923.604633   \n",
       "max    5.427591e+07         37.892650         84.730541      236990.128088   \n",
       "\n",
       "       miss_distance  absolute_magnitude  \n",
       "count   9.083600e+04        90836.000000  \n",
       "mean    3.706655e+07           23.527103  \n",
       "std     2.235204e+07            2.894086  \n",
       "min     6.745533e+03            9.230000  \n",
       "25%     1.721082e+07           21.340000  \n",
       "50%     3.784658e+07           23.700000  \n",
       "75%     5.654900e+07           25.700000  \n",
       "max     7.479865e+07           33.200000  "
      ]
     },
     "execution_count": 16,
     "metadata": {},
     "output_type": "execute_result"
    }
   ],
   "source": [
    "data.describe()"
   ]
  },
  {
   "cell_type": "markdown",
   "id": "13875144",
   "metadata": {},
   "source": [
    "<h3>9) Pie chart for show part of hazardous Asteroid in nature</h3>"
   ]
  },
  {
   "cell_type": "code",
   "execution_count": 17,
   "id": "de961ee5",
   "metadata": {},
   "outputs": [
    {
     "data": {
      "text/plain": [
       "Text(0.5, 1.0, 'Hazardous Nature')"
      ]
     },
     "execution_count": 17,
     "metadata": {},
     "output_type": "execute_result"
    },
    {
     "data": {
      "image/png": "[encoded data removed]",
      "text/plain": [
       "<Figure size 432x288 with 1 Axes>"
      ]
     },
     "metadata": {},
     "output_type": "display_data"
    }
   ],
   "source": [
    "labels = [\"False\" , \"True\"]\n",
    "colors = sns.color_palette('colorblind')\n",
    "plt.pie(data['hazardous'].value_counts(),autopct='%1.1f%%' ,labels = labels, shadow=True,colors = colors)\n",
    "plt.title('Hazardous Nature')"
   ]
  },
  {
   "cell_type": "markdown",
   "id": "8b97d8b3",
   "metadata": {},
   "source": [
    "In above graph we can see part of hazardous asterids in nature"
   ]
  },
  {
   "cell_type": "markdown",
   "id": "6731eab2",
   "metadata": {},
   "source": [
    "<h3>10) Column chart for show categorical variable</h3>"
   ]
  },
  {
   "cell_type": "code",
   "execution_count": 18,
   "id": "218e0cda",
   "metadata": {},
   "outputs": [
    {
     "data": {
      "image/png": "[encoded data removed]",
      "text/plain": [
       "<Figure size 432x288 with 1 Axes>"
      ]
     },
     "metadata": {},
     "output_type": "display_data"
    }
   ],
   "source": [
    "ax = data.hazardous.value_counts().plot.bar(title = \"Hazardous Nature\")\n",
    "plt.xlabel(\"Hazardous\")\n",
    "plt.ylabel(\"count\")\n",
    "for container in ax.containers:\n",
    "    ax.bar_label(container)"
   ]
  },
  {
   "cell_type": "markdown",
   "id": "99899114",
   "metadata": {},
   "source": [
    "In above graph we can see no of hazardous asteroids in nature"
   ]
  },
  {
   "cell_type": "markdown",
   "id": "cc64d879",
   "metadata": {},
   "source": [
    "Here we can see our data is imbalanced data for data modeling. we need to do balanced our dataset."
   ]
  },
  {
   "cell_type": "markdown",
   "id": "c78726bc",
   "metadata": {},
   "source": [
    "<h3> Balanced dataset </h3>"
   ]
  },
  {
   "cell_type": "code",
   "execution_count": 19,
   "id": "a1a3d422",
   "metadata": {},
   "outputs": [],
   "source": [
    "df1 = data[data.hazardous ==False]\n",
    "df2 = data[data.hazardous == True]"
   ]
  },
  {
   "cell_type": "code",
   "execution_count": 20,
   "id": "85ad102d",
   "metadata": {},
   "outputs": [
    {
     "data": {
      "text/plain": [
       "(81996, 8)"
      ]
     },
     "execution_count": 20,
     "metadata": {},
     "output_type": "execute_result"
    }
   ],
   "source": [
    "df1.shape"
   ]
  },
  {
   "cell_type": "code",
   "execution_count": 21,
   "id": "c9993380",
   "metadata": {},
   "outputs": [
    {
     "data": {
      "text/plain": [
       "(8840, 8)"
      ]
     },
     "execution_count": 21,
     "metadata": {},
     "output_type": "execute_result"
    }
   ],
   "source": [
    "df2.shape"
   ]
  },
  {
   "cell_type": "markdown",
   "id": "ed79b761",
   "metadata": {},
   "source": [
    "Here df1 have a false category data and df2 have a true category data."
   ]
  },
  {
   "cell_type": "code",
   "execution_count": 22,
   "id": "d00d3d3a",
   "metadata": {},
   "outputs": [],
   "source": [
    "df3 = df1.sample(8840)"
   ]
  },
  {
   "cell_type": "code",
   "execution_count": 23,
   "id": "146fd097",
   "metadata": {},
   "outputs": [
    {
     "data": {
      "text/html": [
       "<div>\n",
       "<style scoped>\n",
       "    .dataframe tbody tr th:only-of-type {\n",
       "        vertical-align: middle;\n",
       "    }\n",
       "\n",
       "    .dataframe tbody tr th {\n",
       "        vertical-align: top;\n",
       "    }\n",
       "\n",
       "    .dataframe thead th {\n",
       "        text-align: right;\n",
       "    }\n",
       "</style>\n",
       "<table border=\"1\" class=\"dataframe\">\n",
       "  <thead>\n",
       "    <tr style=\"text-align: right;\">\n",
       "      <th></th>\n",
       "      <th>id</th>\n",
       "      <th>name</th>\n",
       "      <th>est_diameter_min</th>\n",
       "      <th>est_diameter_max</th>\n",
       "      <th>relative_velocity</th>\n",
       "      <th>miss_distance</th>\n",
       "      <th>absolute_magnitude</th>\n",
       "      <th>hazardous</th>\n",
       "    </tr>\n",
       "  </thead>\n",
       "  <tbody>\n",
       "    <tr>\n",
       "      <th>52934</th>\n",
       "      <td>54016662</td>\n",
       "      <td>(2020 HK3)</td>\n",
       "      <td>0.038420</td>\n",
       "      <td>0.085909</td>\n",
       "      <td>61613.037548</td>\n",
       "      <td>3.882516e+07</td>\n",
       "      <td>24.2</td>\n",
       "      <td>False</td>\n",
       "    </tr>\n",
       "    <tr>\n",
       "      <th>42818</th>\n",
       "      <td>3752769</td>\n",
       "      <td>(2016 JN5)</td>\n",
       "      <td>0.048368</td>\n",
       "      <td>0.108153</td>\n",
       "      <td>33888.478187</td>\n",
       "      <td>2.048642e+07</td>\n",
       "      <td>23.7</td>\n",
       "      <td>False</td>\n",
       "    </tr>\n",
       "    <tr>\n",
       "      <th>6813</th>\n",
       "      <td>3781889</td>\n",
       "      <td>(2017 SK16)</td>\n",
       "      <td>0.069913</td>\n",
       "      <td>0.156329</td>\n",
       "      <td>51547.311266</td>\n",
       "      <td>1.138131e+07</td>\n",
       "      <td>22.9</td>\n",
       "      <td>False</td>\n",
       "    </tr>\n",
       "    <tr>\n",
       "      <th>25192</th>\n",
       "      <td>3409112</td>\n",
       "      <td>(2008 GV20)</td>\n",
       "      <td>0.441118</td>\n",
       "      <td>0.986370</td>\n",
       "      <td>69044.628038</td>\n",
       "      <td>4.292012e+07</td>\n",
       "      <td>18.9</td>\n",
       "      <td>False</td>\n",
       "    </tr>\n",
       "    <tr>\n",
       "      <th>73339</th>\n",
       "      <td>3826619</td>\n",
       "      <td>(2018 PR7)</td>\n",
       "      <td>0.005303</td>\n",
       "      <td>0.011859</td>\n",
       "      <td>39063.807200</td>\n",
       "      <td>3.619961e+07</td>\n",
       "      <td>28.5</td>\n",
       "      <td>False</td>\n",
       "    </tr>\n",
       "  </tbody>\n",
       "</table>\n",
       "</div>"
      ],
      "text/plain": [
       "             id         name  est_diameter_min  est_diameter_max  \\\n",
       "52934  54016662   (2020 HK3)          0.038420          0.085909   \n",
       "42818   3752769   (2016 JN5)          0.048368          0.108153   \n",
       "6813    3781889  (2017 SK16)          0.069913          0.156329   \n",
       "25192   3409112  (2008 GV20)          0.441118          0.986370   \n",
       "73339   3826619   (2018 PR7)          0.005303          0.011859   \n",
       "\n",
       "       relative_velocity  miss_distance  absolute_magnitude  hazardous  \n",
       "52934       61613.037548   3.882516e+07                24.2      False  \n",
       "42818       33888.478187   2.048642e+07                23.7      False  \n",
       "6813        51547.311266   1.138131e+07                22.9      False  \n",
       "25192       69044.628038   4.292012e+07                18.9      False  \n",
       "73339       39063.807200   3.619961e+07                28.5      False  "
      ]
     },
     "execution_count": 23,
     "metadata": {},
     "output_type": "execute_result"
    }
   ],
   "source": [
    "df3.head()"
   ]
  },
  {
   "cell_type": "code",
   "execution_count": 24,
   "id": "7eb62828",
   "metadata": {},
   "outputs": [
    {
     "data": {
      "text/plain": [
       "(8840, 8)"
      ]
     },
     "execution_count": 24,
     "metadata": {},
     "output_type": "execute_result"
    }
   ],
   "source": [
    "df3.shape"
   ]
  },
  {
   "cell_type": "code",
   "execution_count": 25,
   "id": "e049d935",
   "metadata": {},
   "outputs": [],
   "source": [
    "data1 = pd.concat([df3, df2], axis=0)"
   ]
  },
  {
   "cell_type": "code",
   "execution_count": 26,
   "id": "e220d47f",
   "metadata": {},
   "outputs": [
    {
     "data": {
      "text/plain": [
       "(17680, 8)"
      ]
     },
     "execution_count": 26,
     "metadata": {},
     "output_type": "execute_result"
    }
   ],
   "source": [
    "data1.shape"
   ]
  },
  {
   "cell_type": "markdown",
   "id": "a5acce29",
   "metadata": {},
   "source": [
    "After handling imbalanced data our data set row count is 176803"
   ]
  },
  {
   "cell_type": "markdown",
   "id": "a015ebbd",
   "metadata": {},
   "source": [
    "<h3>11) Column chart for show categorical variable after balanced our dataset</h3>"
   ]
  },
  {
   "cell_type": "code",
   "execution_count": 27,
   "id": "0e340fe6",
   "metadata": {},
   "outputs": [
    {
     "data": {
      "image/png": "[encoded data removed]",
      "text/plain": [
       "<Figure size 432x288 with 1 Axes>"
      ]
     },
     "metadata": {},
     "output_type": "display_data"
    }
   ],
   "source": [
    "ax = data1.hazardous.value_counts().plot.bar(title = \"Hazardous Nature\")\n",
    "plt.xlabel(\"Hazardous\")\n",
    "plt.ylabel(\"count\")\n",
    "for container in ax.containers:\n",
    "    ax.bar_label(container)"
   ]
  },
  {
   "cell_type": "code",
   "execution_count": null,
   "id": "6aca1cc6",
   "metadata": {},
   "outputs": [],
   "source": []
  },
  {
   "cell_type": "code",
   "execution_count": null,
   "id": "cfb58bae",
   "metadata": {},
   "outputs": [],
   "source": []
  },
  {
   "cell_type": "markdown",
   "id": "f34444a6",
   "metadata": {},
   "source": [
    "# Feature Selection"
   ]
  },
  {
   "cell_type": "markdown",
   "id": "63a9fb1c",
   "metadata": {},
   "source": [
    "In this we select featurse for modeling to use correlation heatmap  and basis of realtion between depndent and independent variable where dependent variable is Hazardous and all others independent variables"
   ]
  },
  {
   "cell_type": "markdown",
   "id": "0a4cd0ae",
   "metadata": {},
   "source": [
    "<h3>12) Correlation Heatmap</h3>"
   ]
  },
  {
   "cell_type": "code",
   "execution_count": 28,
   "id": "0216507f",
   "metadata": {},
   "outputs": [
    {
     "data": {
      "text/plain": [
       "<AxesSubplot:>"
      ]
     },
     "execution_count": 28,
     "metadata": {},
     "output_type": "execute_result"
    },
    {
     "data": {
      "image/png": "[encoded data removed]",
      "text/plain": [
       "<Figure size 432x288 with 2 Axes>"
      ]
     },
     "metadata": {},
     "output_type": "display_data"
    }
   ],
   "source": [
    "columns = data1[['est_diameter_min','est_diameter_max','relative_velocity','miss_distance','absolute_magnitude','hazardous']]\n",
    "sns.heatmap(columns.corr(method=\"pearson\"),annot=True ,linewidths=.5, cmap = \"YlGnBu\")"
   ]
  },
  {
   "cell_type": "markdown",
   "id": "11fb6998",
   "metadata": {},
   "source": [
    "<h3> 13) Correlation bar chart for show relation between hazordous and all columns</h3>"
   ]
  },
  {
   "cell_type": "code",
   "execution_count": 29,
   "id": "657682bc",
   "metadata": {},
   "outputs": [
    {
     "data": {
      "image/png": "[encoded data removed]",
      "text/plain": [
       "<Figure size 432x288 with 1 Axes>"
      ]
     },
     "metadata": {},
     "output_type": "display_data"
    }
   ],
   "source": [
    "colors = sns.color_palette('colorblind')\n",
    "data1.corr()['hazardous'][:-1].sort_values().plot(kind='bar',color= colors)\n",
    "plt.show()"
   ]
  },
  {
   "cell_type": "markdown",
   "id": "d673437b",
   "metadata": {},
   "source": [
    "In above chart we can see Absolute Magnitude is highly negative correlated with hazardous variable after this relative velocity positve correlated and then est_diameter_min and max both are same positive correlation value then we can use one variable in data modeling both of these."
   ]
  },
  {
   "cell_type": "markdown",
   "id": "12f65787",
   "metadata": {},
   "source": [
    "<h3>14) Histogram for Absolute Magnitude </h3>"
   ]
  },
  {
   "cell_type": "markdown",
   "id": "df441833",
   "metadata": {},
   "source": [
    "A histogram is a value distribution plot of numerical columns. It basically creates bins in various ranges in values and plots it where we can visualize how values are distributed. We can have a look where more values lie like in positive, negative, or at the center(mean).In below graph we can see absolute magnitude values bins."
   ]
  },
  {
   "cell_type": "code",
   "execution_count": 30,
   "id": "f618b15d",
   "metadata": {},
   "outputs": [
    {
     "data": {
      "image/png": "[encoded data removed]",
      "text/plain": [
       "<Figure size 720x432 with 1 Axes>"
      ]
     },
     "metadata": {},
     "output_type": "display_data"
    }
   ],
   "source": [
    "fig, ax = plt.subplots(figsize=(10, 6))\n",
    "sns.histplot(data1['absolute_magnitude'],palette=('colorblind'),kde = True).set_title('Absolute Magnitude')\n",
    "plt.show()"
   ]
  },
  {
   "cell_type": "markdown",
   "id": "877d057c",
   "metadata": {},
   "source": [
    "<h3>15) Boxplot for Absolute Magnitude vs Hazardous Nature </h3>"
   ]
  },
  {
   "cell_type": "markdown",
   "id": "3b171415",
   "metadata": {},
   "source": [
    "A box plot is a way of statistically representing the distribution of the data through five main dimensions:\n",
    "1. Minimum: The smallest number in the dataset excluding the outliers.\n",
    "2. First quartile: Middle number between the minimum and the median.\n",
    "3. Second quartile (Median): Middle number of the (sorted) dataset.\n",
    "4. Third quartile: Middle number between median and maximum.\n",
    "5. Maximum: The largest number in the dataset excluding the outliers."
   ]
  },
  {
   "cell_type": "code",
   "execution_count": 31,
   "id": "00b31600",
   "metadata": {},
   "outputs": [
    {
     "data": {
      "image/png": "[encoded data removed]",
      "text/plain": [
       "<Figure size 432x288 with 1 Axes>"
      ]
     },
     "metadata": {},
     "output_type": "display_data"
    }
   ],
   "source": [
    "sns.boxplot(x=\"hazardous\", y=\"absolute_magnitude\",data=data1,palette=('colorblind')).set_title('Absolute Magnitude vs. Hazardous Nature')\n",
    "plt.show()"
   ]
  },
  {
   "cell_type": "code",
   "execution_count": null,
   "id": "4f280196",
   "metadata": {},
   "outputs": [],
   "source": []
  },
  {
   "cell_type": "markdown",
   "id": "eed8e315",
   "metadata": {},
   "source": [
    "<h3>16) Histogram for Relative Velocity </h3>"
   ]
  },
  {
   "cell_type": "code",
   "execution_count": 32,
   "id": "47e85a0e",
   "metadata": {},
   "outputs": [
    {
     "data": {
      "text/plain": [
       "<function matplotlib.pyplot.show(close=None, block=None)>"
      ]
     },
     "execution_count": 32,
     "metadata": {},
     "output_type": "execute_result"
    },
    {
     "data": {
      "image/png": "[encoded data removed]",
      "text/plain": [
       "<Figure size 720x432 with 1 Axes>"
      ]
     },
     "metadata": {},
     "output_type": "display_data"
    }
   ],
   "source": [
    "fig, ax = plt.subplots(figsize=(10, 6))\n",
    "sns.histplot(data1['relative_velocity'],palette=('colorblind'),kde=True).set_title('Relative Velocity')\n",
    "plt.show"
   ]
  },
  {
   "cell_type": "markdown",
   "id": "49e7634b",
   "metadata": {},
   "source": [
    "<h3>17) Boxplot for Relative Velocity vs Hazardous Nature </h3>"
   ]
  },
  {
   "cell_type": "code",
   "execution_count": 33,
   "id": "61e4dfb4",
   "metadata": {},
   "outputs": [
    {
     "data": {
      "image/png": "[encoded data removed]",
      "text/plain": [
       "<Figure size 720x432 with 1 Axes>"
      ]
     },
     "metadata": {},
     "output_type": "display_data"
    }
   ],
   "source": [
    "fig, ax = plt.subplots(figsize=(10, 6))\n",
    "sns.boxplot(x=\"hazardous\", y=\"relative_velocity\",data=data1,palette=('colorblind')).set_title('Relative Velocity vs. Hazardous Nature')\n",
    "plt.show()"
   ]
  },
  {
   "cell_type": "markdown",
   "id": "4b8d745e",
   "metadata": {},
   "source": [
    "<h3>18) Histogram for Est Minimum Diameter </h3>"
   ]
  },
  {
   "cell_type": "code",
   "execution_count": 34,
   "id": "647437bc",
   "metadata": {},
   "outputs": [
    {
     "data": {
      "text/plain": [
       "<function matplotlib.pyplot.show(close=None, block=None)>"
      ]
     },
     "execution_count": 34,
     "metadata": {},
     "output_type": "execute_result"
    },
    {
     "data": {
      "image/png": "[encoded data removed]",
      "text/plain": [
       "<Figure size 720x432 with 1 Axes>"
      ]
     },
     "metadata": {},
     "output_type": "display_data"
    }
   ],
   "source": [
    "fig, ax = plt.subplots(figsize=(10, 6))\n",
    "sns.histplot(data1['est_diameter_min'],palette=('colorblind'),kde = True).set_title('Est Minimum Diameter')\n",
    "plt.show"
   ]
  },
  {
   "cell_type": "markdown",
   "id": "3f57fa23",
   "metadata": {},
   "source": [
    "<h3>19) Boxplot for Est Minimum Diameter vs Hazardous Nature </h3>"
   ]
  },
  {
   "cell_type": "code",
   "execution_count": 35,
   "id": "ef7378f9",
   "metadata": {},
   "outputs": [
    {
     "data": {
      "image/png": "[encoded data removed]",
      "text/plain": [
       "<Figure size 432x288 with 1 Axes>"
      ]
     },
     "metadata": {},
     "output_type": "display_data"
    }
   ],
   "source": [
    "sns.boxplot(x=\"hazardous\", y=\"est_diameter_min\",data=data1,palette=('colorblind')).set_title('Est Minimum Diameter vs. Hazardous Nature')\n",
    "plt.show()"
   ]
  },
  {
   "cell_type": "markdown",
   "id": "3641bfcb",
   "metadata": {},
   "source": [
    "In above graph we have outliers then first we need to remove those outliers "
   ]
  },
  {
   "cell_type": "markdown",
   "id": "abd6d727",
   "metadata": {},
   "source": [
    "<h3>20) Find and Remove Outliers</h3>"
   ]
  },
  {
   "cell_type": "markdown",
   "id": "5464c1ca",
   "metadata": {},
   "source": [
    "Outlier is an observation that lies an abnormal distance from other values then we need to find and remove outliers.\n",
    "Outliers also improve our data model accuracy"
   ]
  },
  {
   "cell_type": "code",
   "execution_count": 36,
   "id": "72cfcf40",
   "metadata": {},
   "outputs": [
    {
     "name": "stdout",
     "output_type": "stream",
     "text": [
      "Highest allowed 1.0411081864061469\n",
      "Lowest allowed -0.6403059632884163\n"
     ]
    }
   ],
   "source": [
    "#Find the boundry Values\n",
    "print(\"Highest allowed\",data1['est_diameter_min'].mean() + 3*data1['est_diameter_min'].std())\n",
    "print(\"Lowest allowed\",data1['est_diameter_min'].mean() - 3*data1['est_diameter_min'].std())"
   ]
  },
  {
   "cell_type": "code",
   "execution_count": 37,
   "id": "8021434d",
   "metadata": {},
   "outputs": [
    {
     "data": {
      "text/html": [
       "<div>\n",
       "<style scoped>\n",
       "    .dataframe tbody tr th:only-of-type {\n",
       "        vertical-align: middle;\n",
       "    }\n",
       "\n",
       "    .dataframe tbody tr th {\n",
       "        vertical-align: top;\n",
       "    }\n",
       "\n",
       "    .dataframe thead th {\n",
       "        text-align: right;\n",
       "    }\n",
       "</style>\n",
       "<table border=\"1\" class=\"dataframe\">\n",
       "  <thead>\n",
       "    <tr style=\"text-align: right;\">\n",
       "      <th></th>\n",
       "      <th>id</th>\n",
       "      <th>name</th>\n",
       "      <th>est_diameter_min</th>\n",
       "      <th>est_diameter_max</th>\n",
       "      <th>relative_velocity</th>\n",
       "      <th>miss_distance</th>\n",
       "      <th>absolute_magnitude</th>\n",
       "      <th>hazardous</th>\n",
       "    </tr>\n",
       "  </thead>\n",
       "  <tbody>\n",
       "    <tr>\n",
       "      <th>41032</th>\n",
       "      <td>2212359</td>\n",
       "      <td>212359 (2006 EV52)</td>\n",
       "      <td>1.220548</td>\n",
       "      <td>2.729229</td>\n",
       "      <td>82556.010390</td>\n",
       "      <td>3.903881e+07</td>\n",
       "      <td>16.69</td>\n",
       "      <td>False</td>\n",
       "    </tr>\n",
       "    <tr>\n",
       "      <th>3165</th>\n",
       "      <td>2003103</td>\n",
       "      <td>3103 Eger (1982 BB)</td>\n",
       "      <td>2.368945</td>\n",
       "      <td>5.297122</td>\n",
       "      <td>42225.365136</td>\n",
       "      <td>6.820711e+07</td>\n",
       "      <td>15.25</td>\n",
       "      <td>False</td>\n",
       "    </tr>\n",
       "    <tr>\n",
       "      <th>16895</th>\n",
       "      <td>2001866</td>\n",
       "      <td>1866 Sisyphus (1972 XA)</td>\n",
       "      <td>8.640820</td>\n",
       "      <td>19.321462</td>\n",
       "      <td>96530.774890</td>\n",
       "      <td>7.402691e+07</td>\n",
       "      <td>12.44</td>\n",
       "      <td>False</td>\n",
       "    </tr>\n",
       "    <tr>\n",
       "      <th>46040</th>\n",
       "      <td>2040267</td>\n",
       "      <td>40267 (1999 GJ4)</td>\n",
       "      <td>2.034956</td>\n",
       "      <td>4.550299</td>\n",
       "      <td>80017.766409</td>\n",
       "      <td>7.048749e+07</td>\n",
       "      <td>15.58</td>\n",
       "      <td>False</td>\n",
       "    </tr>\n",
       "    <tr>\n",
       "      <th>61029</th>\n",
       "      <td>3653189</td>\n",
       "      <td>(2013 UR3)</td>\n",
       "      <td>1.058169</td>\n",
       "      <td>2.366138</td>\n",
       "      <td>51042.855420</td>\n",
       "      <td>5.403660e+07</td>\n",
       "      <td>17.00</td>\n",
       "      <td>False</td>\n",
       "    </tr>\n",
       "    <tr>\n",
       "      <th>...</th>\n",
       "      <td>...</td>\n",
       "      <td>...</td>\n",
       "      <td>...</td>\n",
       "      <td>...</td>\n",
       "      <td>...</td>\n",
       "      <td>...</td>\n",
       "      <td>...</td>\n",
       "      <td>...</td>\n",
       "    </tr>\n",
       "    <tr>\n",
       "      <th>89082</th>\n",
       "      <td>2163243</td>\n",
       "      <td>163243 (2002 FB3)</td>\n",
       "      <td>1.301832</td>\n",
       "      <td>2.910985</td>\n",
       "      <td>55633.703097</td>\n",
       "      <td>4.660372e+07</td>\n",
       "      <td>16.55</td>\n",
       "      <td>True</td>\n",
       "    </tr>\n",
       "    <tr>\n",
       "      <th>89293</th>\n",
       "      <td>2068216</td>\n",
       "      <td>68216 (2001 CV26)</td>\n",
       "      <td>1.260535</td>\n",
       "      <td>2.818642</td>\n",
       "      <td>74819.362169</td>\n",
       "      <td>7.443245e+07</td>\n",
       "      <td>16.62</td>\n",
       "      <td>True</td>\n",
       "    </tr>\n",
       "    <tr>\n",
       "      <th>89784</th>\n",
       "      <td>2008566</td>\n",
       "      <td>8566 (1996 EN)</td>\n",
       "      <td>1.407845</td>\n",
       "      <td>3.148038</td>\n",
       "      <td>75295.368058</td>\n",
       "      <td>6.686383e+07</td>\n",
       "      <td>16.38</td>\n",
       "      <td>True</td>\n",
       "    </tr>\n",
       "    <tr>\n",
       "      <th>90646</th>\n",
       "      <td>2005693</td>\n",
       "      <td>5693 (1993 EA)</td>\n",
       "      <td>1.187285</td>\n",
       "      <td>2.654850</td>\n",
       "      <td>73394.428182</td>\n",
       "      <td>1.025621e+07</td>\n",
       "      <td>16.75</td>\n",
       "      <td>True</td>\n",
       "    </tr>\n",
       "    <tr>\n",
       "      <th>90726</th>\n",
       "      <td>2066391</td>\n",
       "      <td>66391 Moshup (1999 KW4)</td>\n",
       "      <td>1.278071</td>\n",
       "      <td>2.857854</td>\n",
       "      <td>120748.628828</td>\n",
       "      <td>6.516275e+07</td>\n",
       "      <td>16.59</td>\n",
       "      <td>True</td>\n",
       "    </tr>\n",
       "  </tbody>\n",
       "</table>\n",
       "<p>317 rows × 8 columns</p>\n",
       "</div>"
      ],
      "text/plain": [
       "            id                     name  est_diameter_min  est_diameter_max  \\\n",
       "41032  2212359       212359 (2006 EV52)          1.220548          2.729229   \n",
       "3165   2003103      3103 Eger (1982 BB)          2.368945          5.297122   \n",
       "16895  2001866  1866 Sisyphus (1972 XA)          8.640820         19.321462   \n",
       "46040  2040267         40267 (1999 GJ4)          2.034956          4.550299   \n",
       "61029  3653189               (2013 UR3)          1.058169          2.366138   \n",
       "...        ...                      ...               ...               ...   \n",
       "89082  2163243        163243 (2002 FB3)          1.301832          2.910985   \n",
       "89293  2068216        68216 (2001 CV26)          1.260535          2.818642   \n",
       "89784  2008566           8566 (1996 EN)          1.407845          3.148038   \n",
       "90646  2005693           5693 (1993 EA)          1.187285          2.654850   \n",
       "90726  2066391  66391 Moshup (1999 KW4)          1.278071          2.857854   \n",
       "\n",
       "       relative_velocity  miss_distance  absolute_magnitude  hazardous  \n",
       "41032       82556.010390   3.903881e+07               16.69      False  \n",
       "3165        42225.365136   6.820711e+07               15.25      False  \n",
       "16895       96530.774890   7.402691e+07               12.44      False  \n",
       "46040       80017.766409   7.048749e+07               15.58      False  \n",
       "61029       51042.855420   5.403660e+07               17.00      False  \n",
       "...                  ...            ...                 ...        ...  \n",
       "89082       55633.703097   4.660372e+07               16.55       True  \n",
       "89293       74819.362169   7.443245e+07               16.62       True  \n",
       "89784       75295.368058   6.686383e+07               16.38       True  \n",
       "90646       73394.428182   1.025621e+07               16.75       True  \n",
       "90726      120748.628828   6.516275e+07               16.59       True  \n",
       "\n",
       "[317 rows x 8 columns]"
      ]
     },
     "execution_count": 37,
     "metadata": {},
     "output_type": "execute_result"
    }
   ],
   "source": [
    "#Finding outliers\n",
    "data1[(data1['est_diameter_min'] > 1.05) | (data1['est_diameter_min'] < -0.65)]\n"
   ]
  },
  {
   "cell_type": "code",
   "execution_count": null,
   "id": "432b942e",
   "metadata": {},
   "outputs": [],
   "source": []
  },
  {
   "cell_type": "code",
   "execution_count": 38,
   "id": "4833a050",
   "metadata": {},
   "outputs": [],
   "source": [
    "#Capping on Outliers\n",
    "upper_limit = data1['est_diameter_min'].mean() + 3*data1['est_diameter_min'].std()\n",
    "lower_limit = data1['est_diameter_min'].mean() - 3*data1['est_diameter_min'].std()"
   ]
  },
  {
   "cell_type": "code",
   "execution_count": 39,
   "id": "34885f6a",
   "metadata": {},
   "outputs": [],
   "source": [
    "#Apply capping\n",
    "data1['est_diameter_min'] = np.where(\n",
    "    data1['est_diameter_min']>upper_limit,\n",
    "    upper_limit,\n",
    "    np.where(\n",
    "        data1['est_diameter_min']<lower_limit,\n",
    "        lower_limit,\n",
    "        data1['est_diameter_min']\n",
    "    )\n",
    ")"
   ]
  },
  {
   "cell_type": "code",
   "execution_count": 40,
   "id": "a04ecaa3",
   "metadata": {},
   "outputs": [
    {
     "data": {
      "text/plain": [
       "count    17680.000000\n",
       "mean         0.189275\n",
       "std          0.207691\n",
       "min          0.000683\n",
       "25%          0.040230\n",
       "50%          0.133216\n",
       "75%          0.242412\n",
       "max          1.041108\n",
       "Name: est_diameter_min, dtype: float64"
      ]
     },
     "execution_count": 40,
     "metadata": {},
     "output_type": "execute_result"
    }
   ],
   "source": [
    "data1.est_diameter_min.describe()"
   ]
  },
  {
   "cell_type": "code",
   "execution_count": null,
   "id": "12a473d6",
   "metadata": {},
   "outputs": [],
   "source": []
  },
  {
   "cell_type": "markdown",
   "id": "dab2880a",
   "metadata": {},
   "source": [
    "<h3>21) Histogram for Est Minimum Diameter after removing outliers </h3>"
   ]
  },
  {
   "cell_type": "code",
   "execution_count": 41,
   "id": "858776c8",
   "metadata": {},
   "outputs": [
    {
     "data": {
      "text/plain": [
       "<function matplotlib.pyplot.show(close=None, block=None)>"
      ]
     },
     "execution_count": 41,
     "metadata": {},
     "output_type": "execute_result"
    },
    {
     "data": {
      "image/png": "[encoded data removed]",
      "text/plain": [
       "<Figure size 720x432 with 1 Axes>"
      ]
     },
     "metadata": {},
     "output_type": "display_data"
    }
   ],
   "source": [
    "fig, ax = plt.subplots(figsize=(10, 6))\n",
    "sns.histplot(data1['est_diameter_min'],palette=('colorblind'),kde = True).set_title('Est Minimum Diameter')\n",
    "plt.show"
   ]
  },
  {
   "cell_type": "markdown",
   "id": "126d4e27",
   "metadata": {},
   "source": [
    "<h3>22) Boxplot for Est Minimum Diameter vs Hazardous Nature after removing outliers </h3>"
   ]
  },
  {
   "cell_type": "code",
   "execution_count": 42,
   "id": "878d3188",
   "metadata": {},
   "outputs": [
    {
     "data": {
      "image/png": "[encoded data removed]",
      "text/plain": [
       "<Figure size 720x432 with 1 Axes>"
      ]
     },
     "metadata": {},
     "output_type": "display_data"
    }
   ],
   "source": [
    "fig, ax = plt.subplots(figsize=(10, 6))\n",
    "sns.boxplot(x=\"hazardous\", y=\"est_diameter_min\",data=data1,palette=('colorblind')).set_title('Est Minimum Diameter vs. Hazardous Nature')\n",
    "plt.show()"
   ]
  },
  {
   "cell_type": "markdown",
   "id": "97a6c709",
   "metadata": {},
   "source": [
    "# Classification Data Modeling by Logistic Regression"
   ]
  },
  {
   "cell_type": "code",
   "execution_count": 43,
   "id": "84102095",
   "metadata": {},
   "outputs": [],
   "source": [
    "from sklearn.model_selection import train_test_split\n",
    "from sklearn.preprocessing import StandardScaler   \n",
    "from sklearn.linear_model import LogisticRegression \n",
    "from sklearn.metrics import accuracy_score\n",
    "from sklearn.metrics import confusion_matrix  \n"
   ]
  },
  {
   "cell_type": "code",
   "execution_count": 44,
   "id": "bee77f66",
   "metadata": {},
   "outputs": [
    {
     "data": {
      "text/html": [
       "<div>\n",
       "<style scoped>\n",
       "    .dataframe tbody tr th:only-of-type {\n",
       "        vertical-align: middle;\n",
       "    }\n",
       "\n",
       "    .dataframe tbody tr th {\n",
       "        vertical-align: top;\n",
       "    }\n",
       "\n",
       "    .dataframe thead th {\n",
       "        text-align: right;\n",
       "    }\n",
       "</style>\n",
       "<table border=\"1\" class=\"dataframe\">\n",
       "  <thead>\n",
       "    <tr style=\"text-align: right;\">\n",
       "      <th></th>\n",
       "      <th>id</th>\n",
       "      <th>name</th>\n",
       "      <th>est_diameter_min</th>\n",
       "      <th>est_diameter_max</th>\n",
       "      <th>relative_velocity</th>\n",
       "      <th>miss_distance</th>\n",
       "      <th>absolute_magnitude</th>\n",
       "      <th>hazardous</th>\n",
       "    </tr>\n",
       "  </thead>\n",
       "  <tbody>\n",
       "    <tr>\n",
       "      <th>52934</th>\n",
       "      <td>54016662</td>\n",
       "      <td>(2020 HK3)</td>\n",
       "      <td>0.038420</td>\n",
       "      <td>0.085909</td>\n",
       "      <td>61613.037548</td>\n",
       "      <td>3.882516e+07</td>\n",
       "      <td>24.2</td>\n",
       "      <td>False</td>\n",
       "    </tr>\n",
       "    <tr>\n",
       "      <th>42818</th>\n",
       "      <td>3752769</td>\n",
       "      <td>(2016 JN5)</td>\n",
       "      <td>0.048368</td>\n",
       "      <td>0.108153</td>\n",
       "      <td>33888.478187</td>\n",
       "      <td>2.048642e+07</td>\n",
       "      <td>23.7</td>\n",
       "      <td>False</td>\n",
       "    </tr>\n",
       "    <tr>\n",
       "      <th>6813</th>\n",
       "      <td>3781889</td>\n",
       "      <td>(2017 SK16)</td>\n",
       "      <td>0.069913</td>\n",
       "      <td>0.156329</td>\n",
       "      <td>51547.311266</td>\n",
       "      <td>1.138131e+07</td>\n",
       "      <td>22.9</td>\n",
       "      <td>False</td>\n",
       "    </tr>\n",
       "    <tr>\n",
       "      <th>25192</th>\n",
       "      <td>3409112</td>\n",
       "      <td>(2008 GV20)</td>\n",
       "      <td>0.441118</td>\n",
       "      <td>0.986370</td>\n",
       "      <td>69044.628038</td>\n",
       "      <td>4.292012e+07</td>\n",
       "      <td>18.9</td>\n",
       "      <td>False</td>\n",
       "    </tr>\n",
       "    <tr>\n",
       "      <th>73339</th>\n",
       "      <td>3826619</td>\n",
       "      <td>(2018 PR7)</td>\n",
       "      <td>0.005303</td>\n",
       "      <td>0.011859</td>\n",
       "      <td>39063.807200</td>\n",
       "      <td>3.619961e+07</td>\n",
       "      <td>28.5</td>\n",
       "      <td>False</td>\n",
       "    </tr>\n",
       "  </tbody>\n",
       "</table>\n",
       "</div>"
      ],
      "text/plain": [
       "             id         name  est_diameter_min  est_diameter_max  \\\n",
       "52934  54016662   (2020 HK3)          0.038420          0.085909   \n",
       "42818   3752769   (2016 JN5)          0.048368          0.108153   \n",
       "6813    3781889  (2017 SK16)          0.069913          0.156329   \n",
       "25192   3409112  (2008 GV20)          0.441118          0.986370   \n",
       "73339   3826619   (2018 PR7)          0.005303          0.011859   \n",
       "\n",
       "       relative_velocity  miss_distance  absolute_magnitude  hazardous  \n",
       "52934       61613.037548   3.882516e+07                24.2      False  \n",
       "42818       33888.478187   2.048642e+07                23.7      False  \n",
       "6813        51547.311266   1.138131e+07                22.9      False  \n",
       "25192       69044.628038   4.292012e+07                18.9      False  \n",
       "73339       39063.807200   3.619961e+07                28.5      False  "
      ]
     },
     "execution_count": 44,
     "metadata": {},
     "output_type": "execute_result"
    }
   ],
   "source": [
    "data1.head()"
   ]
  },
  {
   "cell_type": "markdown",
   "id": "9be5ba19",
   "metadata": {},
   "source": [
    "<h3>1) Declare feature vector and target variable</h3>"
   ]
  },
  {
   "cell_type": "code",
   "execution_count": 45,
   "id": "b60bc0ab",
   "metadata": {},
   "outputs": [],
   "source": [
    "x= data1.drop(['est_diameter_max','id','name','miss_distance','hazardous'], axis=1)\n",
    "y= data1.hazardous"
   ]
  },
  {
   "cell_type": "code",
   "execution_count": 46,
   "id": "57858fa7",
   "metadata": {},
   "outputs": [
    {
     "data": {
      "text/plain": [
       "8840"
      ]
     },
     "execution_count": 46,
     "metadata": {},
     "output_type": "execute_result"
    }
   ],
   "source": [
    "np.count_nonzero(y)"
   ]
  },
  {
   "cell_type": "markdown",
   "id": "e4ce214b",
   "metadata": {},
   "source": [
    "<h3>2) Split Data </h3>"
   ]
  },
  {
   "cell_type": "code",
   "execution_count": 47,
   "id": "23de2408",
   "metadata": {},
   "outputs": [],
   "source": [
    "x_train, x_test, y_train, y_test = train_test_split(x, y, test_size = 0.2, random_state = 0) "
   ]
  },
  {
   "cell_type": "code",
   "execution_count": 48,
   "id": "6e047ff6",
   "metadata": {},
   "outputs": [
    {
     "data": {
      "text/plain": [
       "((14144, 3), (3536, 3))"
      ]
     },
     "execution_count": 48,
     "metadata": {},
     "output_type": "execute_result"
    }
   ],
   "source": [
    "# check the shape of X_train and X_test\n",
    "\n",
    "x_train.shape, x_test.shape"
   ]
  },
  {
   "cell_type": "code",
   "execution_count": null,
   "id": "390e9b17",
   "metadata": {},
   "outputs": [],
   "source": []
  },
  {
   "cell_type": "markdown",
   "id": "d537cb34",
   "metadata": {},
   "source": [
    "<h3>3) Feature Scailing </h3>"
   ]
  },
  {
   "cell_type": "markdown",
   "id": "c1887d94",
   "metadata": {},
   "source": [
    "We use feature scaling for normalize our data. due to this our data accuracy dramatically improve"
   ]
  },
  {
   "cell_type": "code",
   "execution_count": 49,
   "id": "e8a7ef1d",
   "metadata": {},
   "outputs": [],
   "source": [
    "#feature Scaling \n",
    "st_x= StandardScaler()    \n",
    "x_train= st_x.fit_transform(x_train)    \n",
    "x_test= st_x.transform(x_test) "
   ]
  },
  {
   "cell_type": "code",
   "execution_count": null,
   "id": "06454e39",
   "metadata": {},
   "outputs": [],
   "source": []
  },
  {
   "cell_type": "markdown",
   "id": "1a7ba7f5",
   "metadata": {},
   "source": [
    "<h3>4) Fitting Training set </h3>"
   ]
  },
  {
   "cell_type": "markdown",
   "id": "a8058143",
   "metadata": {},
   "source": [
    "In this we create a classifier object and use it to fit the model to the logistic regression"
   ]
  },
  {
   "cell_type": "code",
   "execution_count": 50,
   "id": "21a243d6",
   "metadata": {},
   "outputs": [
    {
     "data": {
      "text/plain": [
       "LogisticRegression(random_state=0)"
      ]
     },
     "execution_count": 50,
     "metadata": {},
     "output_type": "execute_result"
    }
   ],
   "source": [
    " #Fitting Logistic Regression to the training set   \n",
    "classifier= LogisticRegression(random_state=0)  \n",
    "classifier.fit(x_train, y_train)    "
   ]
  },
  {
   "cell_type": "markdown",
   "id": "a8fb0b57",
   "metadata": {},
   "source": [
    "<h3>5) Predicting the train set result </h3>"
   ]
  },
  {
   "cell_type": "code",
   "execution_count": 51,
   "id": "374bb75b",
   "metadata": {},
   "outputs": [],
   "source": [
    "#Predicting the test set result  \n",
    "y_pred_train= classifier.predict(x_train) "
   ]
  },
  {
   "cell_type": "markdown",
   "id": "ba89ebe6",
   "metadata": {},
   "source": [
    "<h3>5) Predicting the test set result </h3>"
   ]
  },
  {
   "cell_type": "code",
   "execution_count": 52,
   "id": "88a61f37",
   "metadata": {},
   "outputs": [],
   "source": [
    "y_pred= classifier.predict(x_test) "
   ]
  },
  {
   "cell_type": "markdown",
   "id": "f47eaa0f",
   "metadata": {},
   "source": [
    "<h3>6) Check Model Accuracy </h3>"
   ]
  },
  {
   "cell_type": "code",
   "execution_count": 53,
   "id": "0a7db501",
   "metadata": {},
   "outputs": [
    {
     "name": "stdout",
     "output_type": "stream",
     "text": [
      "Training-set accuracy score: 0.8609\n"
     ]
    }
   ],
   "source": [
    "print('Training-set accuracy score: {0:0.4f}'. format(accuracy_score(y_train, y_pred_train)))"
   ]
  },
  {
   "cell_type": "markdown",
   "id": "cdf85c33",
   "metadata": {},
   "source": [
    "Our train model accuracy is 90.23%"
   ]
  },
  {
   "cell_type": "code",
   "execution_count": 54,
   "id": "cd3a6034",
   "metadata": {},
   "outputs": [
    {
     "name": "stdout",
     "output_type": "stream",
     "text": [
      "Model accuracy score: 0.8716\n"
     ]
    }
   ],
   "source": [
    "print('Model accuracy score: {0:0.4f}'. format(accuracy_score(y_test, y_pred)))"
   ]
  },
  {
   "cell_type": "markdown",
   "id": "b67e5095",
   "metadata": {},
   "source": [
    "Our test model accuracy is 90.09%"
   ]
  },
  {
   "cell_type": "markdown",
   "id": "38158701",
   "metadata": {},
   "source": [
    "<h3>7) Confusion Matrix</h3>"
   ]
  },
  {
   "cell_type": "markdown",
   "id": "7255ad5c",
   "metadata": {},
   "source": [
    "We need use confusion matrix to define the performance of a classification algorithm"
   ]
  },
  {
   "cell_type": "markdown",
   "id": "10fabeaf",
   "metadata": {},
   "source": [
    "<h3> Confusion Matrix for train data </h3>"
   ]
  },
  {
   "cell_type": "code",
   "execution_count": 55,
   "id": "91760d16",
   "metadata": {},
   "outputs": [],
   "source": [
    "cm_train = confusion_matrix(y_train,y_pred_train)"
   ]
  },
  {
   "cell_type": "code",
   "execution_count": 56,
   "id": "e36a1a57",
   "metadata": {},
   "outputs": [
    {
     "data": {
      "text/plain": [
       "<AxesSubplot:>"
      ]
     },
     "execution_count": 56,
     "metadata": {},
     "output_type": "execute_result"
    },
    {
     "data": {
      "image/png": "[encoded data removed]",
      "text/plain": [
       "<Figure size 432x288 with 2 Axes>"
      ]
     },
     "metadata": {},
     "output_type": "display_data"
    }
   ],
   "source": [
    "# visualize confusion matrix with seaborn heatmap\n",
    "\n",
    "cm_matrix_tain = pd.DataFrame(data=cm_train, columns=['Actual Positive:1', 'Actual Negative:0'], \n",
    "                                 index=['Predict Positive:1', 'Predict Negative:0'])\n",
    "\n",
    "sns.heatmap(cm_matrix_tain, annot=True, fmt='d', cmap='YlGnBu')"
   ]
  },
  {
   "cell_type": "code",
   "execution_count": 57,
   "id": "69abc678",
   "metadata": {},
   "outputs": [
    {
     "name": "stdout",
     "output_type": "stream",
     "text": [
      "Confusion matrix\n",
      "\n",
      " [[5425 1668]\n",
      " [ 299 6752]]\n",
      "\n",
      "True Positives(TP) =  5425\n",
      "\n",
      "True Negatives(TN) =  6752\n",
      "\n",
      "False Positives(FP) =  1668\n",
      "\n",
      "False Negatives(FN) =  299\n"
     ]
    }
   ],
   "source": [
    "# Train data Confusion matrix\n",
    "print('Confusion matrix\\n\\n', cm_train)\n",
    "\n",
    "print('\\nTrue Positives(TP) = ', cm_train[0,0])\n",
    "\n",
    "print('\\nTrue Negatives(TN) = ', cm_train[1,1])\n",
    "\n",
    "print('\\nFalse Positives(FP) = ', cm_train[0,1])\n",
    "\n",
    "print('\\nFalse Negatives(FN) = ', cm_train[1,0])"
   ]
  },
  {
   "cell_type": "markdown",
   "id": "7f3f63c5",
   "metadata": {},
   "source": [
    "The confusion matrix shows 61440 + 30 = 61470 correct predictions and 73 + 6584 = 6657 incorrect predictions.\n",
    "\n",
    "In this case, we have\n",
    "\n",
    "True Positives (Actual Positive:1 and Predict Positive:1) - 61440\n",
    "\n",
    "True Negatives (Actual Negative:0 and Predict Negative:0) - 30\n",
    "\n",
    "False Positives (Actual Negative:0 but Predict Positive:1) - 73 (Type I error)\n",
    "\n",
    "False Negatives (Actual Positive:1 but Predict Negative:0) - 6584 (Type II error)"
   ]
  },
  {
   "cell_type": "markdown",
   "id": "588021f1",
   "metadata": {},
   "source": [
    "<h3> Confusion Matrix for test data </h3>"
   ]
  },
  {
   "cell_type": "code",
   "execution_count": 58,
   "id": "18c97a49",
   "metadata": {},
   "outputs": [],
   "source": [
    "cm= confusion_matrix(y_test,y_pred)  "
   ]
  },
  {
   "cell_type": "code",
   "execution_count": 59,
   "id": "dbaf4420",
   "metadata": {},
   "outputs": [
    {
     "data": {
      "text/plain": [
       "<AxesSubplot:>"
      ]
     },
     "execution_count": 59,
     "metadata": {},
     "output_type": "execute_result"
    },
    {
     "data": {
      "image/png": "[encoded data removed]",
      "text/plain": [
       "<Figure size 432x288 with 2 Axes>"
      ]
     },
     "metadata": {},
     "output_type": "display_data"
    }
   ],
   "source": [
    "# visualize confusion matrix with seaborn heatmap\n",
    "\n",
    "cm_matrix = pd.DataFrame(data=cm, columns=['Actual Positive:1', 'Actual Negative:0'], \n",
    "                                 index=['Predict Positive:1', 'Predict Negative:0'])\n",
    "\n",
    "sns.heatmap(cm_matrix, annot=True, fmt='d', cmap='YlGnBu')"
   ]
  },
  {
   "cell_type": "code",
   "execution_count": 60,
   "id": "84964090",
   "metadata": {},
   "outputs": [
    {
     "name": "stdout",
     "output_type": "stream",
     "text": [
      "Confusion matrix\n",
      "\n",
      " [[1361  386]\n",
      " [  68 1721]]\n",
      "\n",
      "True Positives(TP) =  1361\n",
      "\n",
      "True Negatives(TN) =  1721\n",
      "\n",
      "False Positives(FP) =  386\n",
      "\n",
      "False Negatives(FN) =  68\n"
     ]
    }
   ],
   "source": [
    "# Test data Confusion matrix\n",
    "print('Confusion matrix\\n\\n', cm)\n",
    "\n",
    "print('\\nTrue Positives(TP) = ', cm[0,0])\n",
    "\n",
    "print('\\nTrue Negatives(TN) = ', cm[1,1])\n",
    "\n",
    "print('\\nFalse Positives(FP) = ', cm[0,1])\n",
    "\n",
    "print('\\nFalse Negatives(FN) = ', cm[1,0])"
   ]
  },
  {
   "cell_type": "markdown",
   "id": "7aca24c1",
   "metadata": {},
   "source": [
    "The confusion matrix shows 20448 + 10 = 20458 correct predictions and 35 + 2216 = 2251 incorrect predictions.\n",
    "\n",
    "In this case, we have\n",
    "\n",
    "True Positives (Actual Positive:1 and Predict Positive:1) - 20448\n",
    "\n",
    "True Negatives (Actual Negative:0 and Predict Negative:0) - 10\n",
    "\n",
    "False Positives (Actual Negative:0 but Predict Positive:1) - 35 (Type I error)\n",
    "\n",
    "False Negatives (Actual Positive:1 but Predict Negative:0) - 2251 (Type II error)"
   ]
  },
  {
   "cell_type": "markdown",
   "id": "91efc8da",
   "metadata": {},
   "source": [
    "<h3>8) Classification metrices</h3>"
   ]
  },
  {
   "cell_type": "markdown",
   "id": "422311bf",
   "metadata": {},
   "source": [
    "<h3>Classification accuracy for train data </h3>"
   ]
  },
  {
   "cell_type": "code",
   "execution_count": 61,
   "id": "db8073b8",
   "metadata": {},
   "outputs": [],
   "source": [
    "#Classification accuracy for test data \n",
    "TP = cm_train[0,0]\n",
    "TN = cm_train[1,1]\n",
    "FP = cm_train[0,1]\n",
    "FN = cm_train[1,0]"
   ]
  },
  {
   "cell_type": "code",
   "execution_count": 62,
   "id": "d38f1434",
   "metadata": {},
   "outputs": [
    {
     "name": "stdout",
     "output_type": "stream",
     "text": [
      "Classification accuracy : 0.8609\n"
     ]
    }
   ],
   "source": [
    "classification_accuracy = (TP + TN) / float(TP + TN + FP + FN)\n",
    "\n",
    "print('Classification accuracy : {0:0.4f}'.format(classification_accuracy))"
   ]
  },
  {
   "cell_type": "code",
   "execution_count": 63,
   "id": "2ff1b966",
   "metadata": {},
   "outputs": [
    {
     "name": "stdout",
     "output_type": "stream",
     "text": [
      "Classification error : 0.1391\n"
     ]
    }
   ],
   "source": [
    "classification_error = (FP + FN) / float(TP + TN + FP + FN)\n",
    "\n",
    "print('Classification error : {0:0.4f}'.format(classification_error))"
   ]
  },
  {
   "cell_type": "markdown",
   "id": "402c23d1",
   "metadata": {},
   "source": [
    "<h3>Precision </h3>"
   ]
  },
  {
   "cell_type": "markdown",
   "id": "302d0ce4",
   "metadata": {},
   "source": [
    "Precision can be defined as the percentage of correctly predicted positive outcomes out of all the predicted positive outcomes. It can be given as the ratio of true positives (TP) to the sum of true and false positives (TP + FP).\n",
    "\n",
    "So, Precision identifies the proportion of correctly predicted positive outcome. It is more concerned with the positive class than the negative class.\n",
    "\n",
    "Mathematically, precision can be defined as the ratio of TP to (TP + FP)."
   ]
  },
  {
   "cell_type": "code",
   "execution_count": 64,
   "id": "52aa8397",
   "metadata": {},
   "outputs": [
    {
     "name": "stdout",
     "output_type": "stream",
     "text": [
      "Precision : 0.7648\n"
     ]
    }
   ],
   "source": [
    "precision = TP / float(TP + FP)\n",
    "\n",
    "\n",
    "print('Precision : {0:0.4f}'.format(precision))"
   ]
  },
  {
   "cell_type": "markdown",
   "id": "901bc4aa",
   "metadata": {},
   "source": [
    "<h3>Recall </h3>"
   ]
  },
  {
   "cell_type": "markdown",
   "id": "b056c886",
   "metadata": {},
   "source": [
    "Recall can be defined as the percentage of correctly predicted positive outcomes out of all the actual positive outcomes. It can be given as the ratio of true positives (TP) to the sum of true positives and false negatives (TP + FN). Recall is also called Sensitivity.\n",
    "\n",
    "Recall identifies the proportion of correctly predicted actual positives.\n",
    "\n",
    "Mathematically, recall can be given as the ratio of TP to (TP + FN)."
   ]
  },
  {
   "cell_type": "code",
   "execution_count": 65,
   "id": "6e25672f",
   "metadata": {},
   "outputs": [
    {
     "name": "stdout",
     "output_type": "stream",
     "text": [
      "Recall or Sensitivity : 0.9478\n"
     ]
    }
   ],
   "source": [
    "recall = TP / float(TP + FN)\n",
    "\n",
    "print('Recall or Sensitivity : {0:0.4f}'.format(recall))"
   ]
  },
  {
   "cell_type": "markdown",
   "id": "0cb520b0",
   "metadata": {},
   "source": [
    "<h3>Classification accuracy for test data </h3>\n"
   ]
  },
  {
   "cell_type": "code",
   "execution_count": 66,
   "id": "d44a6823",
   "metadata": {},
   "outputs": [],
   "source": [
    "TP = cm[0,0]\n",
    "TN = cm[1,1]\n",
    "FP = cm[0,1]\n",
    "FN = cm[1,0]"
   ]
  },
  {
   "cell_type": "code",
   "execution_count": 67,
   "id": "5c6a5635",
   "metadata": {},
   "outputs": [
    {
     "name": "stdout",
     "output_type": "stream",
     "text": [
      "Classification accuracy : 0.8716\n"
     ]
    }
   ],
   "source": [
    "classification_accuracy = (TP + TN) / float(TP + TN + FP + FN)\n",
    "\n",
    "print('Classification accuracy : {0:0.4f}'.format(classification_accuracy))"
   ]
  },
  {
   "cell_type": "code",
   "execution_count": 68,
   "id": "5ab12d93",
   "metadata": {},
   "outputs": [
    {
     "name": "stdout",
     "output_type": "stream",
     "text": [
      "Classification error : 0.1284\n"
     ]
    }
   ],
   "source": [
    "classification_error = (FP + FN) / float(TP + TN + FP + FN)\n",
    "\n",
    "print('Classification error : {0:0.4f}'.format(classification_error))"
   ]
  },
  {
   "cell_type": "markdown",
   "id": "5102721b",
   "metadata": {},
   "source": [
    "<h3>Precision </h3>"
   ]
  },
  {
   "cell_type": "code",
   "execution_count": 69,
   "id": "e6e802ab",
   "metadata": {},
   "outputs": [
    {
     "name": "stdout",
     "output_type": "stream",
     "text": [
      "Precision : 0.7790\n"
     ]
    }
   ],
   "source": [
    "\n",
    "precision = TP / float(TP + FP)\n",
    "\n",
    "\n",
    "print('Precision : {0:0.4f}'.format(precision))"
   ]
  },
  {
   "cell_type": "code",
   "execution_count": 70,
   "id": "0c543073",
   "metadata": {},
   "outputs": [
    {
     "name": "stdout",
     "output_type": "stream",
     "text": [
      "Recall or Sensitivity : 0.9524\n"
     ]
    }
   ],
   "source": [
    "recall = TP / float(TP + FN)\n",
    "\n",
    "print('Recall or Sensitivity : {0:0.4f}'.format(recall))"
   ]
  },
  {
   "cell_type": "markdown",
   "id": "45f8718c",
   "metadata": {},
   "source": [
    "# Classification Data Modeling by Decision Tree"
   ]
  },
  {
   "cell_type": "code",
   "execution_count": 71,
   "id": "f267d215",
   "metadata": {},
   "outputs": [],
   "source": [
    "from sklearn.tree import DecisionTreeClassifier  \n"
   ]
  },
  {
   "cell_type": "code",
   "execution_count": 72,
   "id": "4cc9021f",
   "metadata": {},
   "outputs": [],
   "source": [
    "x_train1, x_test1, y_train1, y_test1 = train_test_split(x, y, test_size = 0.2, random_state = 0)"
   ]
  },
  {
   "cell_type": "code",
   "execution_count": 73,
   "id": "e25ea434",
   "metadata": {},
   "outputs": [],
   "source": [
    "st_x= StandardScaler()    \n",
    "x_train1= st_x.fit_transform(x_train1)    \n",
    "x_test1= st_x.transform(x_test1) "
   ]
  },
  {
   "cell_type": "code",
   "execution_count": 74,
   "id": "75078170",
   "metadata": {},
   "outputs": [
    {
     "data": {
      "text/plain": [
       "DecisionTreeClassifier()"
      ]
     },
     "execution_count": 74,
     "metadata": {},
     "output_type": "execute_result"
    }
   ],
   "source": [
    "classifier= DecisionTreeClassifier()  \n",
    "classifier.fit(x_train1, y_train1) "
   ]
  },
  {
   "cell_type": "code",
   "execution_count": 75,
   "id": "45a0661e",
   "metadata": {},
   "outputs": [],
   "source": [
    "y_pred_tain= classifier.predict(x_train1)  "
   ]
  },
  {
   "cell_type": "code",
   "execution_count": 76,
   "id": "9d77957b",
   "metadata": {},
   "outputs": [],
   "source": [
    "y_pred = classifier.predict(x_test1)  "
   ]
  },
  {
   "cell_type": "code",
   "execution_count": 77,
   "id": "dc83fe6d",
   "metadata": {},
   "outputs": [
    {
     "name": "stdout",
     "output_type": "stream",
     "text": [
      "Training-set accuracy score: 0.8609\n"
     ]
    }
   ],
   "source": [
    "print('Training-set accuracy score: {0:0.4f}'. format(accuracy_score(y_train, y_pred_train)))"
   ]
  },
  {
   "cell_type": "code",
   "execution_count": 78,
   "id": "04a534b6",
   "metadata": {},
   "outputs": [
    {
     "name": "stdout",
     "output_type": "stream",
     "text": [
      "Model accuracy score: 0.8348\n"
     ]
    }
   ],
   "source": [
    "print('Model accuracy score: {0:0.4f}'. format(accuracy_score(y_test, y_pred)))"
   ]
  },
  {
   "cell_type": "code",
   "execution_count": 79,
   "id": "2ca18278",
   "metadata": {},
   "outputs": [],
   "source": [
    "cm_train= confusion_matrix(y_train1, y_pred_train) "
   ]
  },
  {
   "cell_type": "code",
   "execution_count": 80,
   "id": "35942680",
   "metadata": {},
   "outputs": [
    {
     "data": {
      "text/plain": [
       "array([[5425, 1668],\n",
       "       [ 299, 6752]], dtype=int64)"
      ]
     },
     "execution_count": 80,
     "metadata": {},
     "output_type": "execute_result"
    }
   ],
   "source": [
    "cm_train"
   ]
  },
  {
   "cell_type": "code",
   "execution_count": 81,
   "id": "1259b81d",
   "metadata": {},
   "outputs": [
    {
     "data": {
      "text/plain": [
       "<AxesSubplot:>"
      ]
     },
     "execution_count": 81,
     "metadata": {},
     "output_type": "execute_result"
    },
    {
     "data": {
      "image/png": "[encoded data removed]",
      "text/plain": [
       "<Figure size 432x288 with 2 Axes>"
      ]
     },
     "metadata": {},
     "output_type": "display_data"
    }
   ],
   "source": [
    "cm_matrix_tain = pd.DataFrame(data=cm_train, columns=['Actual Positive:1', 'Actual Negative:0'], \n",
    "                                 index=['Predict Positive:1', 'Predict Negative:0'])\n",
    "\n",
    "sns.heatmap(cm_matrix_tain, annot=True, fmt='d', cmap='YlGnBu')"
   ]
  },
  {
   "cell_type": "code",
   "execution_count": 83,
   "id": "32bcf6d3",
   "metadata": {},
   "outputs": [
    {
     "name": "stdout",
     "output_type": "stream",
     "text": [
      "Training-set accuracy score: 0.8609\n"
     ]
    }
   ],
   "source": [
    "print('Training-set accuracy score: {0:0.4f}'. format(accuracy_score(y_train1, y_pred_train)))"
   ]
  },
  {
   "cell_type": "code",
   "execution_count": null,
   "id": "3be94d9a",
   "metadata": {},
   "outputs": [],
   "source": []
  },
  {
   "cell_type": "markdown",
   "id": "55f7d063",
   "metadata": {},
   "source": [
    "# Classification Data Modeling by Random Forest"
   ]
  },
  {
   "cell_type": "code",
   "execution_count": 84,
   "id": "df6d2083",
   "metadata": {},
   "outputs": [],
   "source": [
    "x_train2, x_test2, y_train2, y_test2 = train_test_split(x, y, test_size = 0.2, random_state = 0)"
   ]
  },
  {
   "cell_type": "code",
   "execution_count": 85,
   "id": "b37bbebb",
   "metadata": {},
   "outputs": [],
   "source": [
    "st_x= StandardScaler()    \n",
    "x_train2= st_x.fit_transform(x_train2)    \n",
    "x_test2= st_x.transform(x_test2) "
   ]
  },
  {
   "cell_type": "code",
   "execution_count": 86,
   "id": "04a6f244",
   "metadata": {},
   "outputs": [],
   "source": [
    "from sklearn.ensemble import RandomForestClassifier  \n"
   ]
  },
  {
   "cell_type": "code",
   "execution_count": 87,
   "id": "be1eafb6",
   "metadata": {},
   "outputs": [
    {
     "data": {
      "text/plain": [
       "RandomForestClassifier(criterion='entropy', n_estimators=10)"
      ]
     },
     "execution_count": 87,
     "metadata": {},
     "output_type": "execute_result"
    }
   ],
   "source": [
    "classifier= RandomForestClassifier(n_estimators= 10, criterion=\"entropy\")  \n",
    "classifier.fit(x_train2, y_train2)"
   ]
  },
  {
   "cell_type": "code",
   "execution_count": 88,
   "id": "75b759b1",
   "metadata": {},
   "outputs": [],
   "source": [
    "y_pred_train= classifier.predict(x_train2)"
   ]
  },
  {
   "cell_type": "code",
   "execution_count": 89,
   "id": "bd00d3c0",
   "metadata": {},
   "outputs": [],
   "source": [
    "cm_train= confusion_matrix(y_train2, y_pred_train) "
   ]
  },
  {
   "cell_type": "code",
   "execution_count": 90,
   "id": "ce9682ff",
   "metadata": {},
   "outputs": [
    {
     "data": {
      "text/plain": [
       "array([[7001,   92],\n",
       "       [  86, 6965]], dtype=int64)"
      ]
     },
     "execution_count": 90,
     "metadata": {},
     "output_type": "execute_result"
    }
   ],
   "source": [
    "cm_train"
   ]
  },
  {
   "cell_type": "code",
   "execution_count": 91,
   "id": "11836e70",
   "metadata": {},
   "outputs": [
    {
     "data": {
      "text/plain": [
       "<AxesSubplot:>"
      ]
     },
     "execution_count": 91,
     "metadata": {},
     "output_type": "execute_result"
    },
    {
     "data": {
      "image/png": "[encoded data removed]",
      "text/plain": [
       "<Figure size 432x288 with 2 Axes>"
      ]
     },
     "metadata": {},
     "output_type": "display_data"
    }
   ],
   "source": [
    "cm_matrix_tain = pd.DataFrame(data=cm_train, columns=['Actual Positive:1', 'Actual Negative:0'], \n",
    "                                 index=['Predict Positive:1', 'Predict Negative:0'])\n",
    "\n",
    "sns.heatmap(cm_matrix_tain, annot=True, fmt='d', cmap='YlGnBu')"
   ]
  },
  {
   "cell_type": "code",
   "execution_count": 92,
   "id": "f3ea6bb9",
   "metadata": {},
   "outputs": [
    {
     "name": "stdout",
     "output_type": "stream",
     "text": [
      "Training-set accuracy score: 0.9874\n"
     ]
    }
   ],
   "source": [
    "print('Training-set accuracy score: {0:0.4f}'. format(accuracy_score(y_train2, y_pred_train)))"
   ]
  },
  {
   "cell_type": "markdown",
   "id": "637475a0",
   "metadata": {},
   "source": [
    "# Classification Data Modeling by Knn"
   ]
  },
  {
   "cell_type": "code",
   "execution_count": 93,
   "id": "bce8bb30",
   "metadata": {},
   "outputs": [],
   "source": [
    "x_train3, x_test3, y_train3, y_test3 = train_test_split(x, y, test_size = 0.2, random_state = 0)"
   ]
  },
  {
   "cell_type": "code",
   "execution_count": 94,
   "id": "b74bef7d",
   "metadata": {},
   "outputs": [],
   "source": [
    "st_x= StandardScaler()    \n",
    "x_train3= st_x.fit_transform(x_train3)    \n",
    "x_test3= st_x.transform(x_test3) "
   ]
  },
  {
   "cell_type": "code",
   "execution_count": 95,
   "id": "1ac5ff7e",
   "metadata": {},
   "outputs": [],
   "source": [
    "from sklearn.neighbors import KNeighborsClassifier  \n"
   ]
  },
  {
   "cell_type": "code",
   "execution_count": 96,
   "id": "2b7bfbb7",
   "metadata": {},
   "outputs": [
    {
     "data": {
      "text/plain": [
       "KNeighborsClassifier()"
      ]
     },
     "execution_count": 96,
     "metadata": {},
     "output_type": "execute_result"
    }
   ],
   "source": [
    "classifier= KNeighborsClassifier(n_neighbors=5, metric='minkowski', p=2)  \n",
    "classifier.fit(x_train3, y_train3) "
   ]
  },
  {
   "cell_type": "code",
   "execution_count": 97,
   "id": "63afeb35",
   "metadata": {},
   "outputs": [],
   "source": [
    "y_pred_train= classifier.predict(x_train3)"
   ]
  },
  {
   "cell_type": "code",
   "execution_count": 98,
   "id": "4502c692",
   "metadata": {},
   "outputs": [],
   "source": [
    "cm_train= confusion_matrix(y_train3, y_pred_train) "
   ]
  },
  {
   "cell_type": "code",
   "execution_count": 99,
   "id": "1bb7ff71",
   "metadata": {},
   "outputs": [
    {
     "data": {
      "text/plain": [
       "<AxesSubplot:>"
      ]
     },
     "execution_count": 99,
     "metadata": {},
     "output_type": "execute_result"
    },
    {
     "data": {
      "image/png": "[encoded data removed]",
      "text/plain": [
       "<Figure size 432x288 with 2 Axes>"
      ]
     },
     "metadata": {},
     "output_type": "display_data"
    }
   ],
   "source": [
    "cm_matrix_tain = pd.DataFrame(data=cm_train, columns=['Actual Positive:1', 'Actual Negative:0'], \n",
    "                                 index=['Predict Positive:1', 'Predict Negative:0'])\n",
    "\n",
    "sns.heatmap(cm_matrix_tain, annot=True, fmt='d', cmap='YlGnBu')"
   ]
  },
  {
   "cell_type": "code",
   "execution_count": 100,
   "id": "289fe8ca",
   "metadata": {},
   "outputs": [
    {
     "name": "stdout",
     "output_type": "stream",
     "text": [
      "Training-set accuracy score: 0.8900\n"
     ]
    }
   ],
   "source": [
    "print('Training-set accuracy score: {0:0.4f}'. format(accuracy_score(y_train3, y_pred_train)))"
   ]
  },
  {
   "cell_type": "code",
   "execution_count": null,
   "id": "241e4bba",
   "metadata": {},
   "outputs": [],
   "source": []
  }
 ],
 "metadata": {
  "kernelspec": {
   "display_name": "Python 3 (ipykernel)",
   "language": "python",
   "name": "python3"
  },
  "language_info": {
   "codemirror_mode": {
    "name": "ipython",
    "version": 3
   },
   "file_extension": ".py",
   "mimetype": "text/x-python",
   "name": "python",
   "nbconvert_exporter": "python",
   "pygments_lexer": "ipython3",
   "version": "3.9.12"
  }
 },
 "nbformat": 4,
 "nbformat_minor": 5
}
